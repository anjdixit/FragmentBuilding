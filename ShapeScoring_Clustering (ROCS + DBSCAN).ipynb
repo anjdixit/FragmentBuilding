{
 "cells": [
  {
   "cell_type": "markdown",
   "metadata": {},
   "source": [
    "# Generate 3D Conformers of Reaction Products and Filter by Score\n",
    "## Use OpenEye Toolkits and Tanimoto Combo scoring\n",
    "This code can be used to score products of reactions using Tanimoto combo and filter these based on their score. "
   ]
  },
  {
   "cell_type": "code",
   "execution_count": null,
   "metadata": {},
   "outputs": [],
   "source": [
    "import openeye.oechem as oechem\n",
    "import openeye.oeshape as oeshape\n",
    "import openeye.oedepict as oedepict\n",
    "import openeye.oemolprop as oemolprop\n",
    "from IPython.display import display\n",
    "import openeye.oeomega as oeomega\n",
    "from openeye.oeshape import *\n"
   ]
  },
  {
   "cell_type": "code",
   "execution_count": null,
   "metadata": {},
   "outputs": [],
   "source": [
    "#initialize stream to read in molecules and create a list storing all the molecules\n",
    "# We also want to attach the SD data containing the \"reactants\" or building blocks that led to each product \n",
    "# this will allow us to trace back products in each cluster to its beginnings. \n",
    "\n",
    "istream = oechem.oemolistream( '<filename>')\n",
    "\n",
    "fragments = []\n",
    "\n",
    "for oemol in istream.GetOEGraphMols():\n",
    "    oemol.SetTitle(oechem.OEMolToSmiles(oemol) + \"Aldehyde:\" + oechem.OEGetSDData(oemol, \"Aldehyde Reactant\") + \"   Amine:\"+ oechem.OEGetSDData(oemol, \"Primary Amine Reactant\") )\n",
    "    fragments.append(oechem.OEMol(oemol))\n",
    "    \n",
    "    \n",
    "istream.close()\n",
    "\n",
    "print(str(len(fragments)) + '\\n' + fragments[0].GetTitle()) #uncomment to make sure it saved\n"
   ]
  },
  {
   "cell_type": "code",
   "execution_count": null,
   "metadata": {
    "scrolled": true
   },
   "outputs": [],
   "source": [
    "# quickly test to make sure we can visualize imported fragments\n",
    "import oenotebook as oenb\n",
    "\n",
    "oenb.draw_mol(fragments[0])"
   ]
  },
  {
   "cell_type": "markdown",
   "metadata": {},
   "source": [
    "# Perform overlays using ROCS on a matrix of fragments\n",
    "\n",
    "The dimensions of the matrix correspond to each fragment (the more dimensions, the more fragments are being compared). The maximum number of conformation per molecule can also be set, but this greatly determines the amount of processing time/space needed.\n",
    "\n",
    "overlay_dist contains all the \"reverse Tanimoto\" scores, which is the inverse of the tanimoto score between two molecules. This gives a unit of \"distance\" between two molecules which relates to the 3D similarity.\n",
    "\n",
    "overlay_Confs contains a list of overlay'ed molecules in which the best is saved. This can be edited to include all conformations by using getOverlayConfs. The molecules in this list are also tagged with which fragments were compared to produce the output molecule. \n"
   ]
  },
  {
   "cell_type": "code",
   "execution_count": null,
   "metadata": {},
   "outputs": [],
   "source": [
    "import numpy as np\n",
    "import random\n",
    "# Initialize OEOmega object and set the max configurations per molecule. Set strict stero and atom types to false to keep restrictions loose\n",
    "omega = oeomega.OEOmega() \n",
    "omega.SetMaxConfs(20)\n",
    "omega.SetStrictStereo(False)\n",
    "omega.SetStrictAtomTypes(False)\n",
    "\n",
    "istream = oechem.oemolistream( '<filename>')\n",
    "\n",
    "ofs = oechem.oemolostream('<filename>')\n",
    "ofs.SetFormat(oechem.OEFormat_SDF)\n",
    "\n",
    "fragments_shuff = []\n",
    "\n",
    "# shuffle fragments to break up any sorting on similarity; this will help us test if the clustering is working\n",
    "for oemol in istream.GetOEMols():\n",
    "    omega(oemol)\n",
    "    fragments_shuff.append(oechem.OEMol(oemol))\n",
    "    oechem.OEWriteMolecule(ofs, oemol)\n",
    "\n",
    "    \n",
    "random.shuffle(fragments_shuff)\n"
   ]
  },
  {
   "cell_type": "code",
   "execution_count": null,
   "metadata": {
    "scrolled": true
   },
   "outputs": [],
   "source": [
    "ofs = oechem.oemolostream(<FileName>)\n",
    "ofs.SetFormat(oechem.OEFormat_SDF)\n",
    "\n",
    "#uncomment if reading in from file\n",
    "# fragments_shuff = []\n",
    "#istream = oechem.oemolistream( <filename> )\n",
    "#for oemol in istream.GetOEMols():\n",
    "#    fragments_shuff.append(oechem.OEMol(oemol)\n",
    "\n",
    "#initialize matrix with dimesions needed \n",
    "dim = len(fragments_shuff)\n",
    "overlay_dist = np.zeros(shape=(dim,dim))\n",
    "overlay_Confs = []\n",
    "\n",
    "\n",
    "# Setup ROCS to provide specified number of conformers per hit\n",
    "# Add our molecule as the one we are fitting    \n",
    "    \n",
    "for i,frag in enumerate(fragments_shuff[0:dim]):\n",
    "    options = OEROCSOptions()\n",
    "    options.SetNumBestHits(1)\n",
    "    #options.SetConfsPerHit(10)\n",
    "    rocs = OEROCS(options)\n",
    "    rocs.AddMolecule(frag)                             #add in reference molecule\n",
    "    \n",
    "    \n",
    "    for (j, frag2) in enumerate(fragments_shuff[0:dim]):\n",
    "        if i==j:                                       #take out values on the diagonal, or all the \"self\" pairs\n",
    "            continue\n",
    "        # Loop over results and output\n",
    "        for res in rocs.Overlay(frag2):                #add in overlay \"test\" molecule\n",
    "            outmol = res.GetOverlayConf()              #Use GetOverlayConf to get just the best; GetOverlayConfs for all\n",
    "            oeshape.OERemoveColorAtoms(outmol)\n",
    "            oechem.OEAddExplicitHydrogens(outmol)\n",
    "            outmol.SetTitle(oechem.OEMolToSmiles(outmol))\n",
    "   \n",
    "            oechem.OEAddSDData(outmol,\"Tanimoto\", str(res.GetTanimotoCombo()))\n",
    "            oechem.OEAddSDData(outmol, \"Fragment 1\",  oechem.OEMolToSmiles(frag))\n",
    "            oechem.OEAddSDData(outmol, \"Fragment 2\",  oechem.OEMolToSmiles(frag2))\n",
    "            \n",
    "            overlay_Confs.append(oechem.OEMol(outmol))\n",
    "            overlay_dist[i,j] = (2 - res.GetTanimotoCombo()) if res.GetTanimotoCombo() <= 2 else 0 #get \"distance\" from tanimoto score by reversing it; sill set values of the diagonals to 0 (same molecules are compared)\n",
    "            \n",
    "            print(overlay_dist[i,j])\n",
    "            oechem.OEWriteMolecule(ofs, outmol)\n",
    "            \n",
    "            \n",
    "ofs.close()\n",
    "#print (overlay_dist)"
   ]
  },
  {
   "cell_type": "code",
   "execution_count": null,
   "metadata": {},
   "outputs": [],
   "source": [
    "# quickly draw a molecule in overlay_Confs to double check that the title and structure were saved.\n",
    "\n",
    "oenb.draw_mol(overlay_Confs[7])"
   ]
  },
  {
   "cell_type": "markdown",
   "metadata": {},
   "source": [
    "# Using DBScan for clustering based on 3D structure\n",
    "   This method does not need a set number of clusters to be pre-specified. You can specify variation limits of each cluster. We will read in the reverse Tanimoto scores calculated for each conformer in the previous section as a measure of distance."
   ]
  },
  {
   "cell_type": "code",
   "execution_count": null,
   "metadata": {
    "scrolled": true
   },
   "outputs": [],
   "source": [
    "from sklearn.cluster import DBSCAN\n",
    "from sklearn import metrics\n",
    "\n",
    "# eps: Controls maximum distance between two samples to be considered as in neighborhood of the other.\n",
    "# min_samples: Minimum number of samples (compounds) near a compound for it to be considered a core point\n",
    "# Metric: \"precomputed\" means use precomputed distance matrix\n",
    "\n",
    "clustering = DBSCAN(eps=0.7, min_samples = 2, metric=\"precomputed\")\n",
    "\n",
    "# Fit clustering\n",
    "db = clustering.fit(overlay_dist)\n",
    "\n",
    "# Pull labels\n",
    "labels = db.labels_\n",
    "#print(labels)\n",
    "\n",
    "# Number of clusters in labels, ignoring noise if present.\n",
    "n_clusters_ = len(set(labels)) - (1 if -1 in labels else 0)\n",
    "n_noise_ = list(labels).count(-1)\n",
    "\n",
    "print('Estimated number of clusters: %d' % n_clusters_)\n",
    "print('Total number of points: %d' % len(overlay_dist))\n",
    "print('Estimated number of noise points: %d' % n_noise_)\n",
    "\n",
    "\n",
    "\n",
    "# Determine how many compounds are in each cluster.\n",
    "# Cluster \"-1\" is the \"outliers\"/noise points that are not in clusters.\n",
    "\n",
    "mols_by_cluster = {}\n",
    "cluster_nrs = set(labels)\n",
    "\n",
    "for label in cluster_nrs:\n",
    "    mols_by_cluster[label] = []\n",
    "    \n",
    " # Clarify what this part is doing?   \n",
    "    for (idx, thislabel) in enumerate(labels):\n",
    "        if thislabel == label:\n",
    "            mols_by_cluster[label].append(fragments_shuff[idx])\n",
    "            \n",
    "    print(\"%d molecules in cluster %s\" % (len(mols_by_cluster[label]), label))\n"
   ]
  },
  {
   "cell_type": "code",
   "execution_count": null,
   "metadata": {},
   "outputs": [],
   "source": [
    "#check to make sure identity of members in mols_by_cluster is correct\n",
    "\n",
    "print(mols_by_cluster[0][0])"
   ]
  },
  {
   "cell_type": "markdown",
   "metadata": {},
   "source": [
    "## In-Notebook Depiction"
   ]
  },
  {
   "cell_type": "code",
   "execution_count": null,
   "metadata": {
    "scrolled": false
   },
   "outputs": [],
   "source": [
    "import oenotebook as oenb\n",
    "\n",
    "oenb.draw_mol(mols_by_cluster[1][1])"
   ]
  },
  {
   "cell_type": "markdown",
   "metadata": {},
   "source": [
    "## Out-of-notebook depiction (PDFs)\n",
    "This will write molecules to PDF files separately based on which cluster they have been grouped into. First, this will look for a folder named cluster_pdfs and delete it if it is found then make a new one; this will prevent multiple copies of the same files getting saved in the folder. "
   ]
  },
  {
   "cell_type": "code",
   "execution_count": null,
   "metadata": {},
   "outputs": [],
   "source": [
    "from openeye import oedepict\n",
    "import shutil\n",
    "import os\n",
    "if os.path.isdir('cluster_pdfs'): shutil.rmtree('cluster_pdfs')\n",
    "os.mkdir('cluster_pdfs')\n",
    "\n",
    "for label in mols_by_cluster:\n",
    "    if label=='-1':\n",
    "        continue\n",
    "        \n",
    "    oemols = [ oechem.OEMol(mol) for mol in mols_by_cluster[label]]\n",
    "    itf = oechem.OEInterface()\n",
    "    PageByPage = True\n",
    "    suppress_h = True\n",
    "    rows = 10\n",
    "    cols = 3\n",
    "    ropts = oedepict.OEReportOptions(rows, cols)\n",
    "    ropts.SetHeaderHeight(25)\n",
    "    ropts.SetFooterHeight(25)\n",
    "    ropts.SetCellGap(2)\n",
    "    ropts.SetPageMargins(10)\n",
    "    report = oedepict.OEReport(ropts)\n",
    "    cellwidth, cellheight = report.GetCellWidth(), report.GetCellHeight()\n",
    "    opts = oedepict.OE2DMolDisplayOptions(cellwidth, cellheight, oedepict.OEScale_Default * 0.5)\n",
    "    opts.SetAromaticStyle(oedepict.OEAromaticStyle_Circle)\n",
    "    pen = oedepict.OEPen(oechem.OEBlack, oechem.OEBlack, oedepict.OEFill_On, 1.0)\n",
    "    opts.SetDefaultBondPen(pen)\n",
    "    oedepict.OESetup2DMolDisplayOptions(opts, itf)\n",
    "    for i, mol in enumerate(oemols):\n",
    "        cell = report.NewCell()\n",
    "        mol_copy = oechem.OEMol(mol)\n",
    "        oedepict.OEPrepareDepiction(mol_copy, False, suppress_h)\n",
    "        disp = oedepict.OE2DMolDisplay(mol_copy, opts)\n",
    "\n",
    "        oedepict.OERenderMolecule(cell, disp)\n",
    "\n",
    "    oedepict.OEWriteReport(\"cluster_pdfs/cluster%s.pdf\" % label, report)"
   ]
  },
  {
   "cell_type": "markdown",
   "metadata": {},
   "source": [
    "# Sort based on frequency of reactants \n",
    "## Find which reactants appear most frequently"
   ]
  },
  {
   "cell_type": "code",
   "execution_count": null,
   "metadata": {},
   "outputs": [],
   "source": [
    "from collections import Counter\n",
    "\n",
    "\n",
    "common_alds = {}\n",
    "common_amines = {}\n",
    "\n",
    "\n",
    "c = 1\n",
    "for label in mols_by_cluster:\n",
    "    \n",
    "    oemols = [ oechem.OEMol(mol) for mol in mols_by_cluster[label]]\n",
    "    alds = []\n",
    "    ams = []\n",
    "    \n",
    "    for i, mol in enumerate(oemols): #i is the counter for each molecule\n",
    "        ald = oechem.OEGetSDData(mol, \"Aldehyde Reactant\")\n",
    "        am = oechem.OEGetSDData(mol, \"Amine Reactant\")\n",
    "        alds.append(ald)\n",
    "        if not ald in common_alds.keys(): #if an entry for the aldehyde reactant does not exist, then add one and give it a value of 1\n",
    "            common_alds[ald] = 1\n",
    "        elif common_alds[ald] != c: #if it does exist and hasn't been added within this cluster already(the maximum the value should be is the count of the cluster), then add one to the count\n",
    "            common_alds[ald] = common_alds[ald] + 1\n",
    "            \n",
    "        ams.append(am)\n",
    "        if not am in common_amines.keys(): #if an entry for the aldehyde reactant does not exist, then add one and assign in the value of the\n",
    "            common_amines[am] = 1\n",
    "        elif common_amines[am] != c:\n",
    "            common_amines[am] = common_amines[am] + 1   \n",
    "            \n",
    "    c+=1\n",
    "\n",
    "    print(\"\\nCluster No.\" + str(label))\n",
    "    print (\"\\nAldehydes\")\n",
    "    print (Counter(alds))\n",
    "    print (\"\\nSecondary Amines\")\n",
    "    print(Counter(ams))\n",
    "        \n",
    "# get frequency of reactants appearing between clusters    \n",
    "print (\"\\n Aldehyde Appearance in clusters:\")\n",
    "print (common_alds)\n",
    "print(\"\\n Amine Appearance in clusters:\")\n",
    "print (common_amines)\n",
    "\n",
    "        "
   ]
  }
 ],
 "metadata": {
  "kernelspec": {
   "display_name": "Python 3",
   "language": "python",
   "name": "python3"
  },
  "language_info": {
   "codemirror_mode": {
    "name": "ipython",
    "version": 3
   },
   "file_extension": ".py",
   "mimetype": "text/x-python",
   "name": "python",
   "nbconvert_exporter": "python",
   "pygments_lexer": "ipython3",
   "version": "3.7.4"
  },
  "toc": {
   "nav_menu": {},
   "number_sections": true,
   "sideBar": true,
   "skip_h1_title": false,
   "toc_cell": false,
   "toc_position": {},
   "toc_section_display": "block",
   "toc_window_display": false
  }
 },
 "nbformat": 4,
 "nbformat_minor": 4
}
