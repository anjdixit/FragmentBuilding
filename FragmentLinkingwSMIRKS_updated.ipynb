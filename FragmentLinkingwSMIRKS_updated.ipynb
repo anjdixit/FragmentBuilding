{
 "cells": [
  {
   "cell_type": "markdown",
   "metadata": {},
   "source": [
    "# Linking molecule fragments via reaction SMIRKs\n",
    "- Anjali Dixit\n",
    "Generate molecules containing assorted combinations of various molecular fragments or substructures (i.e. substructures containing particular SMIRKS). Here, I experiment with using reaction SMIRKS to link substructures to generate libraries of molecules.\n",
    "\n",
    "Objective: Link molecules using specific reaction schemes for library creation.\n",
    "This file will show a reductive amination using SDF files of building blocks found in the laboratory. \n"
   ]
  },
  {
   "cell_type": "code",
   "execution_count": 4,
   "metadata": {},
   "outputs": [],
   "source": [
    "# Import OpenEye stuff\n",
    "import openeye.oechem as oechem\n",
    "import openeye.oedepict as oedepict\n",
    "import openeye.oemolprop as oemolprop\n",
    "from IPython.display import display\n",
    "import openeye.oeomega as oeomega\n",
    "\n",
    "\n",
    "# Add utility function for depiction\n",
    "def depict(mol, width=500, height=200):\n",
    "    from IPython.display import Image\n",
    "    dopt = oedepict.OEPrepareDepictionOptions()\n",
    "    dopt.SetDepictOrientation( oedepict.OEDepictOrientation_Horizontal)\n",
    "    oedepict.OEPrepareDepiction(mol, dopt)\n",
    "    opts = oedepict.OE2DMolDisplayOptions(width, height, oedepict.OEScale_AutoScale)\n",
    "    disp = oedepict.OE2DMolDisplay(mol, opts)\n",
    "    ofs = oechem.oeosstream()\n",
    "    oedepict.OERenderMolecule(ofs, 'png', disp)\n",
    "    ofs.flush()\n",
    "    return Image(data = \"\".join(ofs.str()))\n"
   ]
  },
  {
   "cell_type": "markdown",
   "metadata": {},
   "source": [
    "# Try out reactions\n"
   ]
  },
  {
   "cell_type": "code",
   "execution_count": 5,
   "metadata": {},
   "outputs": [],
   "source": [
    "# Test by linking two molecules - anything with an aldehyde (H-C=O) can react with an amine (H-N-H) to form \n",
    "# a bond betwen the C-N atoms, dropping the C=O. \n",
    "libgen = oechem.OELibraryGen(\"[C:1](=[O:2]).[C:3][N:4][C:7]>>[C:1][N:4][C:7]\") \n",
    "mol = oechem.OEGraphMol()\n",
    "oechem.OESmilesToMol(mol, 'C(C=O)')\n",
    "libgen.SetStartingMaterial(mol, 0)\n",
    "mol.Clear()\n",
    "oechem.OESmilesToMol(mol, 'CN')\n",
    "libgen.SetStartingMaterial(mol, 1)\n",
    "\n",
    "mols = []\n",
    "for product in libgen.GetProducts():\n",
    "    print(\"product smiles= %s\" %oechem.OEMolToSmiles(product))\n",
    "    mols.append(oechem.OEMol(product))\n",
    "    \n",
    "# Depict result\n",
    "#depict(mols[0])"
   ]
  },
  {
   "cell_type": "markdown",
   "metadata": {},
   "source": [
    "## Proceed to library generation\n",
    "\n",
    "### First, build building block libraries"
   ]
  },
  {
   "cell_type": "code",
   "execution_count": 6,
   "metadata": {
    "scrolled": true
   },
   "outputs": [
    {
     "name": "stdout",
     "output_type": "stream",
     "text": [
      "24786\n"
     ]
    }
   ],
   "source": [
    "# Build two building block libraries for linking\n",
    "\n",
    "\n",
    "# Build overall set of reactants\n",
    "# Load one set of building blocks: Primary amines. uncomment lines below to troubleshoot\n",
    "istream = oechem.oemolistream('Enamine_Primary_Amines_30459cmpds_wSmiles.sdf')\n",
    "primary_amines = []\n",
    "ct = 0\n",
    "for oemol in istream.GetOEGraphMols():\n",
    "    # Create a smiles string using OpenEye OEChem\n",
    "    #print(oechem.OEMolToSmiles(oemol))\n",
    "    if oechem.OECalculateMolecularWeight(oemol) <= 200:\n",
    "        primary_amines.append(oechem.OEMolToSmiles(oemol))\n",
    "    elif (\"Br\" in oechem.OEMolToSmiles(oemol) or \"Cl\" in oechem.OEMolToSmiles(oemol)):\n",
    "        primary_amines.append(oechem.OEMolToSmiles(oemol))\n",
    "        \n",
    "print(len(primary_amines))\n",
    "\n",
    "istream.close()\n"
   ]
  },
  {
   "cell_type": "markdown",
   "metadata": {},
   "source": [
    "Raw SDF Files came from Slack Channel with provider:Patrick Fitzgerald. SDF files can also be found on Enamine's company website. The SDF files were saved to my personal Downloads folder. "
   ]
  },
  {
   "cell_type": "code",
   "execution_count": 7,
   "metadata": {
    "scrolled": true
   },
   "outputs": [
    {
     "name": "stdout",
     "output_type": "stream",
     "text": [
      "4224\n"
     ]
    }
   ],
   "source": [
    "# Load second set of building blocks: Aldehydes. Uncomment to troubleshoot\n",
    "istream = oechem.oemolistream('Enamine_Aldehydes_5798cmpds_wSmiles.sdf')\n",
    "aldehydes = []\n",
    "\n",
    "for oemol in istream.GetOEGraphMols():\n",
    "    # Create a smiles string using OpenEye OEChem\n",
    "    #print(oechem.OEMolToSmiles(oemol))\n",
    "    if oechem.OECalculateMolecularWeight(oemol) <= 200:\n",
    "        aldehydes.append(oechem.OEMolToSmiles(oemol))\n",
    "    elif (\"Br\" in oechem.OEMolToSmiles(oemol) or \"Cl\" in oechem.OEMolToSmiles(oemol)):\n",
    "        aldehydes.append(oechem.OEMolToSmiles(oemol))\n",
    "        \n",
    "print(len(aldehydes))\n",
    "    \n",
    "istream.close()\n"
   ]
  },
  {
   "cell_type": "markdown",
   "metadata": {},
   "source": [
    "## Next step: Begin linking our aldehydes and primary amines\n",
    "\n",
    "### First configure our reaction\n",
    "\n",
    "Filter according to the Rule of 3: MW <300, XlogP <= 3, HBA and HBD groups <= 3 (based on Lipinski rules). Filtering still cannot handle molecules like selentium, silicon, salts and molecules with uncharacterized LogP values for these functional groups)"
   ]
  },
  {
   "cell_type": "code",
   "execution_count": 8,
   "metadata": {
    "scrolled": true
   },
  

    {
     "ename": "KeyboardInterrupt",
     "evalue": "",
     "output_type": "error",
     "traceback": [
      "\u001b[0;31m---------------------------------------------------------------------------\u001b[0m",
      "\u001b[0;31mKeyboardInterrupt\u001b[0m                         Traceback (most recent call last)",
      "\u001b[0;32m<ipython-input-8-a4922947e6aa>\u001b[0m in \u001b[0;36m<module>\u001b[0;34m\u001b[0m\n\u001b[1;32m     29\u001b[0m                 \u001b[0mlibgen\u001b[0m\u001b[0;34m.\u001b[0m\u001b[0mSetStartingMaterial\u001b[0m\u001b[0;34m(\u001b[0m\u001b[0mmol\u001b[0m\u001b[0;34m,\u001b[0m \u001b[0;36m1\u001b[0m\u001b[0;34m)\u001b[0m\u001b[0;34m\u001b[0m\u001b[0;34m\u001b[0m\u001b[0m\n\u001b[1;32m     30\u001b[0m \u001b[0;34m\u001b[0m\u001b[0m\n\u001b[0;32m---> 31\u001b[0;31m                 \u001b[0;32mfor\u001b[0m \u001b[0mproduct\u001b[0m \u001b[0;32min\u001b[0m \u001b[0mlibgen\u001b[0m\u001b[0;34m.\u001b[0m\u001b[0mGetProducts\u001b[0m\u001b[0;34m(\u001b[0m\u001b[0;34m)\u001b[0m\u001b[0;34m:\u001b[0m\u001b[0;34m\u001b[0m\u001b[0;34m\u001b[0m\u001b[0m\n\u001b[0m\u001b[1;32m     32\u001b[0m                     \u001b[0;32mif\u001b[0m \u001b[0;34m(\u001b[0m\u001b[0moechem\u001b[0m\u001b[0;34m.\u001b[0m\u001b[0mOECalculateMolecularWeight\u001b[0m\u001b[0;34m(\u001b[0m\u001b[0mproduct\u001b[0m\u001b[0;34m)\u001b[0m \u001b[0;34m<=\u001b[0m \u001b[0;36m300\u001b[0m \u001b[0;32mand\u001b[0m \u001b[0moemolprop\u001b[0m\u001b[0;34m.\u001b[0m\u001b[0mOEGetLipinskiAcceptorCount\u001b[0m\u001b[0;34m(\u001b[0m\u001b[0mproduct\u001b[0m\u001b[0;34m)\u001b[0m\u001b[0;34m<=\u001b[0m\u001b[0;36m3\u001b[0m \u001b[0;32mand\u001b[0m \u001b[0moemolprop\u001b[0m\u001b[0;34m.\u001b[0m\u001b[0mOEGetLipinskiDonorCount\u001b[0m\u001b[0;34m(\u001b[0m\u001b[0mproduct\u001b[0m\u001b[0;34m)\u001b[0m\u001b[0;34m<=\u001b[0m\u001b[0;36m3\u001b[0m \u001b[0;32mand\u001b[0m \u001b[0moemolprop\u001b[0m\u001b[0;34m.\u001b[0m\u001b[0mOEGetRotatableBondCount\u001b[0m\u001b[0;34m(\u001b[0m\u001b[0mproduct\u001b[0m\u001b[0;34m)\u001b[0m \u001b[0;34m<=\u001b[0m \u001b[0;36m3\u001b[0m\u001b[0;34m)\u001b[0m\u001b[0;34m:\u001b[0m \u001b[0;31m#if product satisfies these conditions, then add it to the list\u001b[0m\u001b[0;34m\u001b[0m\u001b[0;34m\u001b[0m\u001b[0m\n\u001b[1;32m     33\u001b[0m                         \u001b[0;32mtry\u001b[0m\u001b[0;34m:\u001b[0m\u001b[0;34m\u001b[0m\u001b[0;34m\u001b[0m\u001b[0m\n",
      "\u001b[0;32m~/anaconda3/envs/FragmentBuilder/lib/python3.6/site-packages/openeye/oechem.py\u001b[0m in \u001b[0;36mGetProducts\u001b[0;34m(self)\u001b[0m\n\u001b[1;32m  22866\u001b[0m \u001b[0;34m\u001b[0m\u001b[0m\n\u001b[1;32m  22867\u001b[0m     \u001b[0;32mdef\u001b[0m \u001b[0mGetProducts\u001b[0m\u001b[0;34m(\u001b[0m\u001b[0mself\u001b[0m\u001b[0;34m)\u001b[0m\u001b[0;34m:\u001b[0m\u001b[0;34m\u001b[0m\u001b[0;34m\u001b[0m\u001b[0m\n\u001b[0;32m> 22868\u001b[0;31m       \u001b[0mproditer\u001b[0m \u001b[0;34m=\u001b[0m \u001b[0mself\u001b[0m\u001b[0;34m.\u001b[0m\u001b[0mGetProductsIter\u001b[0m\u001b[0;34m(\u001b[0m\u001b[0;34m)\u001b[0m\u001b[0;34m\u001b[0m\u001b[0;34m\u001b[0m\u001b[0m\n\u001b[0m\u001b[1;32m  22869\u001b[0m       \u001b[0;32mwhile\u001b[0m \u001b[0mproditer\u001b[0m\u001b[0;34m.\u001b[0m\u001b[0mIsValid\u001b[0m\u001b[0;34m(\u001b[0m\u001b[0;34m)\u001b[0m\u001b[0;34m:\u001b[0m\u001b[0;34m\u001b[0m\u001b[0;34m\u001b[0m\u001b[0m\n\u001b[1;32m  22870\u001b[0m         \u001b[0;32myield\u001b[0m \u001b[0mproditer\u001b[0m\u001b[0;34m.\u001b[0m\u001b[0mTarget\u001b[0m\u001b[0;34m(\u001b[0m\u001b[0;34m)\u001b[0m\u001b[0;34m\u001b[0m\u001b[0;34m\u001b[0m\u001b[0m\n",
      "\u001b[0;32m~/anaconda3/envs/FragmentBuilder/lib/python3.6/site-packages/openeye/oechem.py\u001b[0m in \u001b[0;36mGetProductsIter\u001b[0;34m(self)\u001b[0m\n\u001b[1;32m  22950\u001b[0m     \u001b[0;32mdef\u001b[0m \u001b[0mGetProductsIter\u001b[0m\u001b[0;34m(\u001b[0m\u001b[0mself\u001b[0m\u001b[0;34m)\u001b[0m \u001b[0;34m->\u001b[0m \u001b[0;34m\"OESystem::OEIterBase< OEChem::OEMolBase > *\"\u001b[0m\u001b[0;34m:\u001b[0m\u001b[0;34m\u001b[0m\u001b[0;34m\u001b[0m\u001b[0m\n\u001b[1;32m  22951\u001b[0m         \u001b[0;34m\"\"\"GetProductsIter(OELibraryGen self) -> OESystem::OEIterBase< OEChem::OEMolBase > *\"\"\"\u001b[0m\u001b[0;34m\u001b[0m\u001b[0;34m\u001b[0m\u001b[0m\n\u001b[0;32m> 22952\u001b[0;31m         \u001b[0;32mreturn\u001b[0m \u001b[0m_oechem\u001b[0m\u001b[0;34m.\u001b[0m\u001b[0mOELibraryGen_GetProductsIter\u001b[0m\u001b[0;34m(\u001b[0m\u001b[0mself\u001b[0m\u001b[0;34m)\u001b[0m\u001b[0;34m\u001b[0m\u001b[0;34m\u001b[0m\u001b[0m\n\u001b[0m\u001b[1;32m  22953\u001b[0m \u001b[0;34m\u001b[0m\u001b[0m\n\u001b[1;32m  22954\u001b[0m \u001b[0mOELibraryGen_swigregister\u001b[0m \u001b[0;34m=\u001b[0m \u001b[0m_oechem\u001b[0m\u001b[0;34m.\u001b[0m\u001b[0mOELibraryGen_swigregister\u001b[0m\u001b[0;34m\u001b[0m\u001b[0;34m\u001b[0m\u001b[0m\n",
      "\u001b[0;31mKeyboardInterrupt\u001b[0m: "
     ]
    }
   ],
   "source": [
    "# Start the for loop for enumeration over both sets. \n",
    "#Whatever the order of reactants is for the SMIRKS reaction \n",
    "#needs to match the order the starting materials are written in.\n",
    "\n",
    "libgen = oechem.OELibraryGen(\"[C:1](=[O:2]).[N:4]([H:5])([H:6])[#6:7]>>[C:1][N:4]([H:5])[#6:7]\")\n",
    "libgen.SetValenceCorrection(True)\n",
    "\n",
    "\n",
    "omeg = oeomega.OEOmega()\n",
    "omeg.SetMaxConfs(1)\n",
    "omeg.SetStrictStereo(False)\n",
    "\n",
    "ofs1 = oechem.oemolostream('Enamine_ReductiveAminations.sdf')\n",
    "ofs1.SetFormat(oechem.OEFormat_SDF)\n",
    "\n",
    "products = []\n",
    "mol = oechem.OEGraphMol()\n",
    "\n",
    "for idx_ald, ald in enumerate(aldehydes):\n",
    "    if idx_ald < 1500:\n",
    "        oechem.OESmilesToMol(mol, aldehydes[idx_ald])\n",
    "        libgen.SetStartingMaterial(mol, 0)\n",
    "        \n",
    "        for idx_amine, amine in enumerate(primary_amines):\n",
    "            \n",
    "            if idx_amine < 1500:\n",
    "                mol.Clear()\n",
    "                oechem.OESmilesToMol(mol, primary_amines[idx_amine])\n",
    "                libgen.SetStartingMaterial(mol, 1)\n",
    "                \n",
    "                for product in libgen.GetProducts():\n",
    "                    if (oechem.OECalculateMolecularWeight(product) <= 300 and oemolprop.OEGetLipinskiAcceptorCount(product)<=3 and oemolprop.OEGetLipinskiDonorCount(product)<=3 and oemolprop.OEGetRotatableBondCount(product) <= 3): #if product satisfies these conditions, then add it to the list\n",
    "                        try:\n",
    "                            oemolprop.OEGetXLogP(product)\n",
    "                            if oemolprop.OEGetXLogP(product) <= 3:    \n",
    "                                #print(oechem.OEMolToSmiles(product))\n",
    "                                if not oechem.OEHasSDData(product, \"Aldehyde Reactant\"):\n",
    "                                    oechem.OEAddSDData(product,\"Aldehyde Reactant\", aldehydes[idx_ald])\n",
    "                                    oechem.OEAddSDData(product,\"Primary Amine Reactant\", primary_amines[idx_amine])\n",
    "                                    oemol.SetTitle(\"Smiles: %s \\n Aldehyde: %s, Amine: %s\" % (oechem.OEMolToSmiles(product), oechem.OEGetSDData(product, \"Aldehyde\"),oechem.OEGetSDData(product, \"Amine\")) )\n",
    "\n",
    "                                products.append(oechem.OEMol(product))\n",
    "                                \n",
    "                        except RuntimeError:\n",
    "                            print(\"Error: product=\",oechem.OEMolToSmiles(product))\n",
    "                                                        \n",
    "             #check if there is a Br or Cl in the molecule; in this case, exclude it from the MW filter.\n",
    "            \n",
    "                    elif ((\"Br\" in oechem.OEMolToSmiles(product) or \"Cl\" in oechem.OEMolToSmiles(product)) and oemolprop.OEGetLipinskiAcceptorCount(product)<=3 and oemolprop.OEGetLipinskiDonorCount(product)<=3):\n",
    "                        try:\n",
    "                            oemolprop.OEGetXLogP(product)\n",
    "                            if oemolprop.OEGetXLogP(product) <= 3:    \n",
    "                                #print(oechem.OEMolToSmiles(product))\n",
    "                                if not oechem.OEHasSDData(product, \"Aldehyde Reactant\"):\n",
    "                                    oechem.OEAddSDData(product,\"Aldehyde Reactant\", aldehydes[idx_ald])\n",
    "                                    oechem.OEAddSDData(product,\"Primary Amine Reactant\", primary_amines[idx_amine])\n",
    "                                    oemol.SetTitle(\"Smiles: %s \\n Aldehyde: %s, Amine: %s\" % (oechem.OEMolToSmiles(product), oechem.OEGetSDData(product, \"Aldehyde Reactant\"),oechem.OEGetSDData(product, \"Amine Reactant\")) )\n",
    "\n",
    "                                products.append(oechem.OEMol(product))\n",
    "                        except RuntimeError:\n",
    "                            print(\"Error: product=\",oechem.OEMolToSmiles(product))       \n",
    "               \n",
    "                mol.Clear()\n",
    "                \n",
    "                if idx_amine % 1500 == 0: #match value to idx_amine contraint value\n",
    "                    print(f'{idx_ald}') #count to check progress based on # aldehydes reacted\n",
    "            else:\n",
    "                break\n",
    "    else:\n",
    "        break\n",
    "        \n",
    "print('Filtered based on RO3\\n') \n",
    "print('Number of Compounds:' + str(len(products)))\n",
    "\n",
    "#make sure it worked and stored information \n",
    "\n",
    "#for product in products:\n",
    "#    print('\\n'+ oechem.OEMolToSmiles(product)) \n",
    "   "
   ]
  },
  {
   "cell_type": "markdown",
   "metadata": {},
   "source": [
    "# Troubleshooting block. Ignore if block above works. \n",
    "\n",
    "Propagate these changes to the loop one above"
   ]
  },
  {
   "cell_type": "code",
   "execution_count": 6,
   "metadata": {},
   "outputs": [
    {
     "name": "stdout",
     "output_type": "stream",
     "text": [
      "product smiles= Cc1cc(cc(c1)n2c(c(c(n2)C)Br)N[CH]CCCC#C)C\n"
     ]
    }
   ],
   "source": [
    "# Test by linking two molecules - anything with an aldehyde (H-C=O) can react with an amine (H-N-H) to form \n",
    "# a bond betwen the C-N atoms, dropping the C=O. #6 means any carbon (aromatic or alipathic) can be used.\n",
    "#libgen = oechem.OELibraryGen(\"[C:1](=[O:2]).[#6:3][N:4]>>[C:1][N:4][#6:3]\") \n",
    "libgen = oechem.OELibraryGen(\"[C:1](=[O:2]).[N:4]([H:5])([H:6])[#6:7]>>[C:1][N:4]([H:5])[#6:7]\") \n",
    "mol = oechem.OEGraphMol()\n",
    "oechem.OESmilesToMol(mol, 'C#CCCCC=O')\n",
    "libgen.SetStartingMaterial(mol, 0)\n",
    "mol.Clear()\n",
    "oechem.OESmilesToMol(mol, 'Cc1cc(cc(c1)n2c(c(c(n2)C)Br)N)C')\n",
    "libgen.SetStartingMaterial(mol, 1)\n",
    "\n",
    "mols = []\n",
    "for product in libgen.GetProducts():\n",
    "    print(\"product smiles= %s\" %oechem.OEMolToSmiles(product))\n",
    "    mols.append(oechem.OEMol(product))"
   ]
  },
  {
   "cell_type": "markdown",
   "metadata": {},
   "source": [
    "# Generate a conformer for each and write out"
   ]
  },
  {
   "cell_type": "code",
   "execution_count": 9,
   "metadata": {},
   "outputs": [],
   "source": [
    "for oemol in products:\n",
    "    omeg(oemol)\n",
    "    oechem.OEWriteMolecule(ofs1, oemol)\n",
    "ofs1.close()\n",
    "    "
   ]
  },
  {
   "cell_type": "code",
   "execution_count": null,
   "metadata": {},
   "outputs": [],
   "source": []
  }
 ],
 "metadata": {
  "kernelspec": {
   "display_name": "Python 3",
   "language": "python",
   "name": "python3"
  },
  "language_info": {
   "codemirror_mode": {
    "name": "ipython",
    "version": 3
   },
   "file_extension": ".py",
   "mimetype": "text/x-python",
   "name": "python",
   "nbconvert_exporter": "python",
   "pygments_lexer": "ipython3",
   "version": "3.6.10"
  },
  "toc": {
   "nav_menu": {},
   "number_sections": true,
   "sideBar": true,
   "skip_h1_title": false,
   "toc_cell": false,
   "toc_position": {},
   "toc_section_display": "block",
   "toc_window_display": false
  }
 },
 "nbformat": 4,
 "nbformat_minor": 2
}
